{
 "cells": [
  {
   "cell_type": "markdown",
   "metadata": {},
   "source": [
    "### Chapter 8 函数和闭包"
   ]
  },
  {
   "cell_type": "markdown",
   "metadata": {},
   "source": [
    "#### 8.1 方法"
   ]
  },
  {
   "cell_type": "code",
   "execution_count": 17,
   "metadata": {},
   "outputs": [
    {
     "data": {
      "text/plain": [
       "\u001b[32mimport \u001b[36mscala.io.Source\u001b[0m\n",
       "defined \u001b[32mobject \u001b[36mLongLines\u001b[0m"
      ]
     },
     "metadata": {},
     "output_type": "display_data"
    }
   ],
   "source": [
    "import scala.io.Source\n",
    "\n",
    "object LongLines {\n",
    "    def processFile(filename: String, width: Int) {\n",
    "        // 文件名用来创建Source对象\n",
    "        val source = Source.fromFile(filename);\n",
    "        // 读取指定文件\n",
    "        for (line <- source.getLines) {\n",
    "            processLine(filename, width, line);\n",
    "        }\n",
    "    }\n",
    "    \n",
    "    private def processLine(filename: String, width:Int, line:String) {\n",
    "        // 打印超过长度设定范围的文本行\n",
    "        if (line.length > width) {\n",
    "            println(filename + \": \" + line.trim);\n",
    "        }\n",
    "    }\n",
    "}"
   ]
  },
  {
   "cell_type": "code",
   "execution_count": 28,
   "metadata": {},
   "outputs": [
    {
     "name": "stdout",
     "output_type": "stream",
     "text": [
      "D:\\work\\test.txt: length over 5"
     ]
    },
    {
     "data": {
      "text/plain": [
       "\u001b[36mf\u001b[0m: \u001b[32mString\u001b[0m = \u001b[32m\"\"\"\n",
       "D:\\work\\test.txt\n",
       "\"\"\"\u001b[0m\n",
       "\u001b[36mw\u001b[0m: \u001b[32mInt\u001b[0m = \u001b[32m5\u001b[0m"
      ]
     },
     "metadata": {},
     "output_type": "display_data"
    }
   ],
   "source": [
    "val f = \"D:\\\\work\\\\test.txt\";\n",
    "val w = 5;\n",
    "LongLines.processFile(f, w);"
   ]
  },
  {
   "cell_type": "code",
   "execution_count": 29,
   "metadata": {},
   "outputs": [
    {
     "data": {
      "text/plain": [
       "defined \u001b[32mobject \u001b[36mFindLongLines\u001b[0m"
      ]
     },
     "metadata": {},
     "output_type": "display_data"
    }
   ],
   "source": [
    "// 创建一个应用，把第一个命令行参数当作行长度，并把后续的参数解释为文件名\n",
    "// 在命令行中使用LongLines\n",
    "\n",
    "object FindLongLines {\n",
    "    def main(args: Array[String]) {\n",
    "        val width = args(0).toInt;\n",
    "        for (arg <- args.drop(1)) {\n",
    "            LongLines.processFile(arg, width)\n",
    "        }\n",
    "    }\n",
    "}"
   ]
  },
  {
   "cell_type": "markdown",
   "metadata": {},
   "source": [
    "#### 8.2 本地函数"
   ]
  },
  {
   "cell_type": "markdown",
   "metadata": {},
   "source": [
    "帮助函数的名称可能污染程序的命名空间，一旦函数被打包成可复用的类和对象，最好让类的使用者不可见，因为它们经常不能独立表达什么意思，如果之后用其他方式重写类的话，也常会希望能确保足以删掉这些帮助方法的灵活度"
   ]
  },
  {
   "cell_type": "markdown",
   "metadata": {},
   "source": [
    "重构8.1中原本的Longlines版本，去掉private修饰符，然后把processLine的定义放在processFile的定义中，此时，processLine的范围局限在processFile之内，外部无法访问\n",
    "\n",
    "同时，processLine中的filename和width参数，与processFile中比起来并没有发生改变，所以可以直接使用外部processLine函数的参数"
   ]
  },
  {
   "cell_type": "code",
   "execution_count": null,
   "metadata": {},
   "outputs": [],
   "source": [
    "import scala.io.Source\n",
    "\n",
    "object LongLines {\n",
    "    def processFile(filename: String, width: Int) {\n",
    "        // 把函数定义在别的函数之类，就像本地变量一样\n",
    "        // 这种本地函数仅在包含它的代码块中可见\n",
    "        def processLine(line:String) {\n",
    "            // 打印超过长度设定范围的文本行\n",
    "            if (line.length > width) {\n",
    "                println(filename + \": \" + line.trim);\n",
    "            }\n",
    "        }\n",
    "        \n",
    "        // 文件名用来创建Source对象\n",
    "        val source = Source.fromFile(filename);\n",
    "        // 读取指定文件\n",
    "        for (line <- source.getLines) {\n",
    "            processLine(filename, width, line);\n",
    "        }\n",
    "    }\n",
    "    \n",
    "}"
   ]
  },
  {
   "cell_type": "markdown",
   "metadata": {},
   "source": [
    "#### 8.3 头等函数"
   ]
  },
  {
   "cell_type": "markdown",
   "metadata": {},
   "source": [
    "Scala的函数是头等函数(first-class function)，你不仅可以定义和调用函数，还可以把他们携程匿名的字面量，并把它们作为值传递\n",
    "\n",
    "函数字面量被编译进类，并在运行期实例化为函数值"
   ]
  },
  {
   "cell_type": "code",
   "execution_count": 33,
   "metadata": {},
   "outputs": [
    {
     "data": {
      "text/plain": [
       "\u001b[36mres29\u001b[0m: \u001b[32mInt\u001b[0m => \u001b[32mInt\u001b[0m = <function1>"
      ]
     },
     "metadata": {},
     "output_type": "display_data"
    }
   ],
   "source": [
    "// 这是对数字执行递增操作的函数字面量的简单例子\n",
    "// =>指明这个函数把左边的东西转变成右边的东西\n",
    "(x: Int) => x + 1;"
   ]
  },
  {
   "cell_type": "markdown",
   "metadata": {},
   "source": [
    "函数值是对象，可以将其存入变量，它们也是函数，所以也可以使用通常的括号函数调用写法调用它们"
   ]
  },
  {
   "cell_type": "code",
   "execution_count": 34,
   "metadata": {},
   "outputs": [
    {
     "data": {
      "text/plain": [
       "\u001b[36mincrease\u001b[0m: \u001b[32mInt\u001b[0m => \u001b[32mInt\u001b[0m = <function1>\n",
       "\u001b[36mres30_1\u001b[0m: \u001b[32mInt\u001b[0m = \u001b[32m1\u001b[0m"
      ]
     },
     "metadata": {},
     "output_type": "display_data"
    }
   ],
   "source": [
    "var increase = (x: Int) => x + 1;\n",
    "increase(0);"
   ]
  },
  {
   "cell_type": "markdown",
   "metadata": {},
   "source": [
    "如果想让函数字面量包含多条语句，可以用花括号包住函数体，一行放一条语句，这样就组成了代码块\n",
    "\n",
    "当函数值被调用时，所有语句将被执行，函数的返回值就是最后一行表达式所产生的值"
   ]
  },
  {
   "cell_type": "code",
   "execution_count": 37,
   "metadata": {},
   "outputs": [
    {
     "name": "stdout",
     "output_type": "stream",
     "text": [
      "the number is 1"
     ]
    },
    {
     "data": {
      "text/plain": [
       "\u001b[36mincrease\u001b[0m: \u001b[32mInt\u001b[0m => \u001b[32mInt\u001b[0m = <function1>\n",
       "\u001b[36mres33_1\u001b[0m: \u001b[32mInt\u001b[0m = \u001b[32m1\u001b[0m"
      ]
     },
     "metadata": {},
     "output_type": "display_data"
    }
   ],
   "source": [
    "var increase = (x: Int) => {\n",
    "    println(\"the number is \");\n",
    "    println(x + 1);\n",
    "    x + 1;\n",
    "}\n",
    "increase(0)"
   ]
  },
  {
   "cell_type": "markdown",
   "metadata": {},
   "source": [
    "再举一个例子，所有的集合类都可以使用foreach方法"
   ]
  },
  {
   "cell_type": "code",
   "execution_count": 38,
   "metadata": {},
   "outputs": [
    {
     "name": "stdout",
     "output_type": "stream",
     "text": [
      "-1\n",
      "0\n",
      "1\n"
     ]
    },
    {
     "data": {
      "text/plain": [
       "\u001b[36msomeNumbers\u001b[0m: \u001b[32mList\u001b[0m[\u001b[32mInt\u001b[0m] = \u001b[33mList\u001b[0m(\u001b[32m-1\u001b[0m, \u001b[32m0\u001b[0m, \u001b[32m1\u001b[0m)"
      ]
     },
     "metadata": {},
     "output_type": "display_data"
    }
   ],
   "source": [
    "val someNumbers = List(-1, 0, 1);\n",
    "someNumbers.foreach((x: Int) => println(x));"
   ]
  },
  {
   "cell_type": "markdown",
   "metadata": {},
   "source": [
    "关于集合类型的filter方法"
   ]
  },
  {
   "cell_type": "code",
   "execution_count": 41,
   "metadata": {},
   "outputs": [
    {
     "data": {
      "text/plain": [
       "\u001b[36mres37\u001b[0m: \u001b[32mList\u001b[0m[\u001b[32mInt\u001b[0m] = \u001b[33mList\u001b[0m(\u001b[32m1\u001b[0m)"
      ]
     },
     "metadata": {},
     "output_type": "display_data"
    }
   ],
   "source": [
    "// 函数(x:Int)=>x>0可以用来作过滤\n",
    "someNumbers.filter((x: Int) => x > 0);"
   ]
  },
  {
   "cell_type": "markdown",
   "metadata": {},
   "source": [
    "#### 8.4 函数字面量的短格式"
   ]
  },
  {
   "cell_type": "markdown",
   "metadata": {},
   "source": [
    "Scala提供了许多方法去除冗余信息，并把函数字面量写得更简短\n",
    "\n",
    "一种让函数字面量简短的方法是去除参数类型，如下，Scala编译器知道x的类型，因为它看到你立刻使用了这个函数过滤列表(someNumbers暗示），这被称为目标类型化：target typing\n",
    "\n",
    "还有一种是神略参数外的括号，因为某些参数的类型是被推断的"
   ]
  },
  {
   "cell_type": "code",
   "execution_count": 46,
   "metadata": {},
   "outputs": [
    {
     "data": {
      "text/plain": [
       "\u001b[36msomeNumbers\u001b[0m: \u001b[32mList\u001b[0m[\u001b[32mDouble\u001b[0m] = \u001b[33mList\u001b[0m(\u001b[32m-1.0\u001b[0m, \u001b[32m0.0\u001b[0m, \u001b[32m1.0\u001b[0m)\n",
       "\u001b[36mres42_1\u001b[0m: \u001b[32mList\u001b[0m[\u001b[32mDouble\u001b[0m] = \u001b[33mList\u001b[0m(\u001b[32m1.0\u001b[0m)"
      ]
     },
     "metadata": {},
     "output_type": "display_data"
    }
   ],
   "source": [
    "val someNumbers = List(-1.0, 0.0, 1.0);\n",
    "someNumbers.filter(x => x > 0);"
   ]
  },
  {
   "cell_type": "markdown",
   "metadata": {},
   "source": [
    "#### 8.5 占位符语法"
   ]
  },
  {
   "cell_type": "markdown",
   "metadata": {},
   "source": [
    "如果每个参数在函数字面量内仅出现一次的话，把下划线当作一个或更多参数的占位符，可以让函数字面量更简洁"
   ]
  },
  {
   "cell_type": "code",
   "execution_count": 45,
   "metadata": {},
   "outputs": [
    {
     "data": {
      "text/plain": [
       "\u001b[36mres41\u001b[0m: \u001b[32mList\u001b[0m[\u001b[32mDouble\u001b[0m] = \u001b[33mList\u001b[0m(\u001b[32m1.0\u001b[0m)"
      ]
     },
     "metadata": {},
     "output_type": "display_data"
    }
   ],
   "source": [
    "someNumbers.filter(_ > 0);"
   ]
  },
  {
   "cell_type": "markdown",
   "metadata": {},
   "source": [
    "有时把下划线当作参数的占位符，编译器可能无法推断确实的参数类型，此时可以使用冒号指定类型，比如"
   ]
  },
  {
   "cell_type": "code",
   "execution_count": 49,
   "metadata": {},
   "outputs": [
    {
     "data": {
      "text/plain": [
       "\u001b[36mf\u001b[0m: (\u001b[32mInt\u001b[0m, \u001b[32mInt\u001b[0m) => \u001b[32mInt\u001b[0m = <function2>\n",
       "\u001b[36mres44_1\u001b[0m: \u001b[32mInt\u001b[0m = \u001b[32m15\u001b[0m"
      ]
     },
     "metadata": {},
     "output_type": "display_data"
    }
   ],
   "source": [
    "val f = (_: Int) + (_: Int);\n",
    "// 第一个下划线代表第一个参数，第二个下划线代表第二个......如此类推\n",
    "f(5, 10);"
   ]
  },
  {
   "cell_type": "markdown",
   "metadata": {},
   "source": [
    "#### 8.6 部分应用函数"
   ]
  },
  {
   "cell_type": "code",
   "execution_count": 50,
   "metadata": {},
   "outputs": [
    {
     "name": "stdout",
     "output_type": "stream",
     "text": [
      "-1.0\n",
      "0.0\n",
      "1.0\n"
     ]
    },
    {
     "data": {
      "text/plain": []
     },
     "metadata": {},
     "output_type": "display_data"
    }
   ],
   "source": [
    "// 函数与下划线之间记得留一个空格\n",
    "someNumbers.foreach(println _);"
   ]
  },
  {
   "cell_type": "code",
   "execution_count": 57,
   "metadata": {},
   "outputs": [
    {
     "name": "stdout",
     "output_type": "stream",
     "text": [
      "-1.0\n",
      "0.0\n",
      "1.0\n"
     ]
    },
    {
     "data": {
      "text/plain": []
     },
     "metadata": {},
     "output_type": "display_data"
    }
   ],
   "source": [
    "// 也可以写作以下 (这是一个省略所有参数的偏程序表达式)\n",
    "someNumbers.foreach(println);"
   ]
  },
  {
   "cell_type": "markdown",
   "metadata": {},
   "source": [
    "在Scala中，调用函数、传入任何需要的参数，实际上是在把函数应用到参数上"
   ]
  },
  {
   "cell_type": "code",
   "execution_count": 52,
   "metadata": {},
   "outputs": [
    {
     "data": {
      "text/plain": [
       "defined \u001b[32mfunction \u001b[36msum\u001b[0m\n",
       "\u001b[36mres47_1\u001b[0m: \u001b[32mInt\u001b[0m = \u001b[32m6\u001b[0m"
      ]
     },
     "metadata": {},
     "output_type": "display_data"
    }
   ],
   "source": [
    "def sum(a: Int, b: Int, c:Int) = a + b + c;\n",
    "// 将函数sum应用到参数1，2，3上\n",
    "sum(1, 2, 3);"
   ]
  },
  {
   "cell_type": "markdown",
   "metadata": {},
   "source": [
    "部分应用函数是一种表达式，不需要提供函数需要的所有参数，代之以仅提供部分，或不提供所需参数，如下"
   ]
  },
  {
   "cell_type": "code",
   "execution_count": 53,
   "metadata": {},
   "outputs": [
    {
     "data": {
      "text/plain": [
       "\u001b[36ma\u001b[0m: (\u001b[32mInt\u001b[0m, \u001b[32mInt\u001b[0m, \u001b[32mInt\u001b[0m) => \u001b[32mInt\u001b[0m = <function3>"
      ]
     },
     "metadata": {},
     "output_type": "display_data"
    }
   ],
   "source": [
    "val a = sum _;"
   ]
  },
  {
   "cell_type": "markdown",
   "metadata": {},
   "source": [
    "上面的代码实例化了一个带3个缺失整数参数的函数值，并把这个新的函数值的索引赋给变量a，实际过程是：名为a的变量指向一个函数值对象，这个函数值是由Scala编译器依照部分应用函数表达式sum _自动产生的类的一个实例"
   ]
  },
  {
   "cell_type": "code",
   "execution_count": 54,
   "metadata": {},
   "outputs": [
    {
     "data": {
      "text/plain": [
       "\u001b[36mres49\u001b[0m: \u001b[32mInt\u001b[0m = \u001b[32m6\u001b[0m"
      ]
     },
     "metadata": {},
     "output_type": "display_data"
    }
   ],
   "source": [
    "a(1, 2, 3);"
   ]
  },
  {
   "cell_type": "markdown",
   "metadata": {},
   "source": [
    "编译器产生的类有一个apply方法，可以用来带3个参数，编译器把表达式a(1,2,3)翻译成对函数值apply方法的调用，传入3个参数1，2，3"
   ]
  },
  {
   "cell_type": "code",
   "execution_count": 55,
   "metadata": {},
   "outputs": [
    {
     "data": {
      "text/plain": [
       "\u001b[36mres50\u001b[0m: \u001b[32mInt\u001b[0m = \u001b[32m6\u001b[0m"
      ]
     },
     "metadata": {},
     "output_type": "display_data"
    }
   ],
   "source": [
    "// a(1,2,3)是以下代码的短格式\n",
    "a.apply(1,2,3);"
   ]
  },
  {
   "cell_type": "markdown",
   "metadata": {},
   "source": [
    "#### 8.7 闭包"
   ]
  },
  {
   "cell_type": "markdown",
   "metadata": {},
   "source": [
    "闭包是依照函数字面量在运行是创建的函数值（对象）\n",
    "\n",
    "如(x: Int) => x + 1 被称为封闭项，但(x: Int) => x + more这种带有自由变量的函数字面量都是开放项，以它为模板在运行期间创建的函数值将必须捕获自由变量more，因此得到的函数值将包含指向捕获的more变量的索引"
   ]
  },
  {
   "cell_type": "code",
   "execution_count": 63,
   "metadata": {},
   "outputs": [
    {
     "data": {
      "text/plain": [
       "\u001b[36mn1\u001b[0m: \u001b[32mDouble\u001b[0m = \u001b[32m1.0\u001b[0m\n",
       "\u001b[36msomeNumbers\u001b[0m: \u001b[32mList\u001b[0m[\u001b[32mDouble\u001b[0m] = \u001b[33mList\u001b[0m(\u001b[32m-1.0\u001b[0m, \u001b[32m0.0\u001b[0m, \u001b[32m2.0\u001b[0m)"
      ]
     },
     "metadata": {},
     "output_type": "display_data"
    }
   ],
   "source": [
    "var n1 = 0.0;\n",
    "val someNumbers = List(-1.0, 0.0, 2.0);\n",
    "\n",
    "// Scala的闭包捕获变量本身，而不是变量指向的值\n",
    "// 所以闭包对捕获变量作出的改变在闭包之外也可见\n",
    "someNumbers.foreach(n1 += _);"
   ]
  },
  {
   "cell_type": "markdown",
   "metadata": {},
   "source": [
    "#### 8.8 重复参数"
   ]
  },
  {
   "cell_type": "markdown",
   "metadata": {},
   "source": [
    "Scala中可以指明函数的最后一个参数是重复的，从而允许用户向函数传入可变长度参数列表\n",
    "\n",
    "想要标注一个重复参数，可在参数的类型后放一个*"
   ]
  },
  {
   "cell_type": "code",
   "execution_count": 67,
   "metadata": {},
   "outputs": [
    {
     "name": "stdout",
     "output_type": "stream",
     "text": [
      "hello\n",
      "world\n"
     ]
    },
    {
     "data": {
      "text/plain": [
       "defined \u001b[32mfunction \u001b[36mecho\u001b[0m"
      ]
     },
     "metadata": {},
     "output_type": "display_data"
    }
   ],
   "source": [
    "def echo(args: String*) = {\n",
    "    for (arg <- args) {\n",
    "        println(arg);\n",
    "    }\n",
    "}\n",
    "\n",
    "echo(\"hello\", \"world\")"
   ]
  },
  {
   "cell_type": "markdown",
   "metadata": {},
   "source": [
    "函数内部，重复参数的类型是声明参数类型的数组，因此，echo函数里被声明为类型String*的args的类型实际上是Array[String]"
   ]
  },
  {
   "cell_type": "code",
   "execution_count": null,
   "metadata": {},
   "outputs": [],
   "source": []
  }
 ],
 "metadata": {
  "kernelspec": {
   "display_name": "Scala 2.11",
   "language": "scala211",
   "name": "scala211"
  },
  "language_info": {
   "codemirror_mode": "text/x-scala",
   "file_extension": ".scala",
   "mimetype": "text/x-scala",
   "name": "scala211",
   "pygments_lexer": "scala",
   "version": "2.11.6"
  }
 },
 "nbformat": 4,
 "nbformat_minor": 2
}
