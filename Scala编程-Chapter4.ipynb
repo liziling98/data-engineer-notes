{
 "cells": [
  {
   "cell_type": "markdown",
   "metadata": {},
   "source": [
    "### 类和对象"
   ]
  },
  {
   "cell_type": "code",
   "execution_count": 3,
   "metadata": {},
   "outputs": [
    {
     "data": {
      "text/plain": [
       "defined \u001b[32mclass \u001b[36mChecksumAccumulator\u001b[0m"
      ]
     },
     "metadata": {},
     "output_type": "display_data"
    }
   ],
   "source": [
    "class ChecksumAccumulator {\n",
    "    var sum = 0\n",
    "}"
   ]
  },
  {
   "cell_type": "code",
   "execution_count": 5,
   "metadata": {},
   "outputs": [
    {
     "data": {
      "text/plain": [
       "\u001b[36macc\u001b[0m: \u001b[32mChecksumAccumulator\u001b[0m = cmd2$$user$ChecksumAccumulator@4360c748"
      ]
     },
     "metadata": {},
     "output_type": "display_data"
    }
   ],
   "source": [
    "val acc = new ChecksumAccumulator"
   ]
  },
  {
   "cell_type": "code",
   "execution_count": 6,
   "metadata": {},
   "outputs": [
    {
     "data": {
      "text/plain": [
       "\u001b[36mres5\u001b[0m: \u001b[32mInt\u001b[0m = \u001b[32m0\u001b[0m"
      ]
     },
     "metadata": {},
     "output_type": "display_data"
    }
   ],
   "source": [
    "acc.sum"
   ]
  },
  {
   "cell_type": "markdown",
   "metadata": {},
   "source": [
    "为了保证对象健壮性，一个重要方法是保证对象的状态，即实例变量的值在对象整个生命周期中持续有效\n",
    "\n",
    "第一步就是通过把字段变成private以阻止外界直接对它的访问，因为私有字段只能被定义成在同一个类里的方法访问，所有能更新字段的代码将被锁定在类里"
   ]
  },
  {
   "cell_type": "code",
   "execution_count": 8,
   "metadata": {},
   "outputs": [
    {
     "data": {
      "text/plain": [
       "defined \u001b[32mclass \u001b[36mChecksumAccumulator\u001b[0m"
      ]
     },
     "metadata": {},
     "output_type": "display_data"
    }
   ],
   "source": [
    "class ChecksumAccumulator {\n",
    "    private var sum = 0\n",
    "    \n",
    "    def add(b: Byte): Unit = {\n",
    "        sum += b\n",
    "    }\n",
    "    \n",
    "    def checksum(): Int = {\n",
    "        return ~(sum &0xFF) + 1\n",
    "    }\n",
    "}"
   ]
  },
  {
   "cell_type": "markdown",
   "metadata": {},
   "source": [
    "如果没有发现任何显式的返回语句，将返回方法中最后一次计算得到的值，索引checksum方法中的return语句是多余的可以去掉\n",
    "\n",
    "在上述代码中，sum被重新赋值了，可以进行如下改写"
   ]
  },
  {
   "cell_type": "code",
   "execution_count": 9,
   "metadata": {},
   "outputs": [
    {
     "data": {
      "text/plain": [
       "defined \u001b[32mclass \u001b[36mChecksumAccumulator\u001b[0m"
      ]
     },
     "metadata": {},
     "output_type": "display_data"
    }
   ],
   "source": [
    "class ChecksumAccumulator {\n",
    "    private var sum = 0\n",
    "    def add(b: Byte) { sum += b}\n",
    "    def checksum(): Int = ~(sum &0xFF) + 1\n",
    "}"
   ]
  },
  {
   "cell_type": "markdown",
   "metadata": {},
   "source": [
    "Scala不能定义静态成员，取代之以定义单例对象，即singleton object，除了用object关键字替换了class关键字外，单例对象的定义看上去与类定义一致"
   ]
  },
  {
   "cell_type": "code",
   "execution_count": 10,
   "metadata": {},
   "outputs": [
    {
     "data": {
      "text/plain": [
       "\u001b[32mimport \u001b[36mscala.collection.mutable.Map\u001b[0m\n",
       "defined \u001b[32mobject \u001b[36mChecksumAccumulator\u001b[0m"
      ]
     },
     "metadata": {},
     "output_type": "display_data"
    }
   ],
   "source": [
    "import scala.collection.mutable.Map\n",
    "\n",
    "object ChecksumAccumulator {\n",
    "    private val cache = Map[String, Int]()\n",
    "    \n",
    "    def calculate(s: String): Int = {\n",
    "        if (cache.contains(s)) {\n",
    "            cache(s)\n",
    "        }\n",
    "        else {\n",
    "            val acc = new ChecksumAccumulator\n",
    "            for (c <- s) {\n",
    "                acc.add(c.toByte)\n",
    "            }\n",
    "            val cs = acc.checksum()\n",
    "            cache += (s -> cs)\n",
    "            cs\n",
    "        }\n",
    "    }\n",
    "}"
   ]
  },
  {
   "cell_type": "code",
   "execution_count": 11,
   "metadata": {},
   "outputs": [
    {
     "data": {
      "text/plain": [
       "\u001b[36mres10\u001b[0m: \u001b[32mInt\u001b[0m = \u001b[32m-20\u001b[0m"
      ]
     },
     "metadata": {},
     "output_type": "display_data"
    }
   ],
   "source": [
    "ChecksumAccumulator.calculate(\"hello\")"
   ]
  },
  {
   "cell_type": "markdown",
   "metadata": {},
   "source": [
    "Scala提供了特质scala.Application，可以减少一些输出工作\n",
    "\n",
    "使用方法是在单例对象名后加上extends Application(extends App)，然后代之以main方法，可以把想要执行的代码直接放在单例对象的花括号之间\n",
    "\n",
    "因为特质Application声明了带有合适签名的main方法，并被用户写的单例对象继承"
   ]
  },
  {
   "cell_type": "code",
   "execution_count": 13,
   "metadata": {},
   "outputs": [
    {
     "data": {
      "text/plain": [
       "\u001b[32mimport \u001b[36mChecksumAccumulator.calculate\u001b[0m\n",
       "defined \u001b[32mobject \u001b[36mFallWinterSpringSummer\u001b[0m"
      ]
     },
     "metadata": {},
     "output_type": "display_data"
    }
   ],
   "source": [
    "import ChecksumAccumulator.calculate\n",
    "\n",
    "object FallWinterSpringSummer extends App {\n",
    "    \n",
    "    for (season <- List(\"fall\", \"winter\", \"sprint\")) {\n",
    "        println(season + \": \" + calculate(season))\n",
    "    }\n",
    "}"
   ]
  },
  {
   "cell_type": "markdown",
   "metadata": {},
   "source": [
    "如需访问命令行参数，就不能使用该方法"
   ]
  }
 ],
 "metadata": {
  "kernelspec": {
   "display_name": "Scala 2.11",
   "language": "scala211",
   "name": "scala211"
  },
  "language_info": {
   "codemirror_mode": "text/x-scala",
   "file_extension": ".scala",
   "mimetype": "text/x-scala",
   "name": "scala211",
   "pygments_lexer": "scala",
   "version": "2.11.6"
  }
 },
 "nbformat": 4,
 "nbformat_minor": 2
}
