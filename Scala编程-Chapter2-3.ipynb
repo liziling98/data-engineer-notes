{
 "cells": [
  {
   "cell_type": "markdown",
   "metadata": {},
   "source": [
    "### Chapter 2: Scala入门初探"
   ]
  },
  {
   "cell_type": "code",
   "execution_count": 1,
   "metadata": {},
   "outputs": [
    {
     "data": {
      "text/plain": [
       "\u001b[36mres0\u001b[0m: \u001b[32mInt\u001b[0m = \u001b[32m3\u001b[0m"
      ]
     },
     "metadata": {},
     "output_type": "display_data"
    }
   ],
   "source": [
    "1 + 2"
   ]
  },
  {
   "cell_type": "code",
   "execution_count": 2,
   "metadata": {},
   "outputs": [
    {
     "data": {
      "text/plain": [
       "\u001b[36mres1\u001b[0m: \u001b[32mInt\u001b[0m = \u001b[32m9\u001b[0m"
      ]
     },
     "metadata": {},
     "output_type": "display_data"
    }
   ],
   "source": [
    "res0 * 3"
   ]
  },
  {
   "cell_type": "markdown",
   "metadata": {},
   "source": [
    "类型推断: 能让Scala自动理解省略的类型"
   ]
  },
  {
   "cell_type": "code",
   "execution_count": 5,
   "metadata": {},
   "outputs": [
    {
     "data": {
      "text/plain": [
       "\u001b[36mmsg1\u001b[0m: \u001b[32mString\u001b[0m = \u001b[32m\"hello\"\u001b[0m\n",
       "\u001b[36mmsg2\u001b[0m: \u001b[32mString\u001b[0m = \u001b[32m\"hello\"\u001b[0m\n",
       "\u001b[36mmsg3\u001b[0m: \u001b[32mString\u001b[0m = \u001b[32m\"hello\"\u001b[0m"
      ]
     },
     "metadata": {},
     "output_type": "display_data"
    }
   ],
   "source": [
    "val msg1 = \"hello\"\n",
    "val msg2: java.lang.String = \"hello\"\n",
    "// 简化名也是可见的\n",
    "val msg3: String = \"hello\""
   ]
  },
  {
   "cell_type": "code",
   "execution_count": 7,
   "metadata": {},
   "outputs": [
    {
     "data": {
      "text/plain": [
       "\u001b[36mres6\u001b[0m: \u001b[32mBoolean\u001b[0m = true"
      ]
     },
     "metadata": {},
     "output_type": "display_data"
    }
   ],
   "source": [
    "msg1 == msg2"
   ]
  },
  {
   "cell_type": "code",
   "execution_count": 8,
   "metadata": {},
   "outputs": [
    {
     "data": {
      "text/plain": [
       "\u001b[36mres7\u001b[0m: \u001b[32mBoolean\u001b[0m = true"
      ]
     },
     "metadata": {},
     "output_type": "display_data"
    }
   ],
   "source": [
    "msg3 == msg2"
   ]
  },
  {
   "cell_type": "markdown",
   "metadata": {},
   "source": [
    "val类型的变量不能继续赋值， 如果需要可以被重新赋值的变量，可以使用var"
   ]
  },
  {
   "cell_type": "code",
   "execution_count": 9,
   "metadata": {},
   "outputs": [
    {
     "ename": "",
     "evalue": "",
     "output_type": "error",
     "traceback": [
      "Compilation Failed",
      "\u001b[31mMain.scala:67: reassignment to val\r",
      "msg1 = \"h\"\r",
      "     ^\u001b[0m"
     ]
    }
   ],
   "source": [
    "msg1 = \"h\""
   ]
  },
  {
   "cell_type": "code",
   "execution_count": 10,
   "metadata": {},
   "outputs": [
    {
     "data": {
      "text/plain": [
       "\u001b[36mgreeting\u001b[0m: \u001b[32mString\u001b[0m = \u001b[32m\"hello world\"\u001b[0m"
      ]
     },
     "metadata": {},
     "output_type": "display_data"
    }
   ],
   "source": [
    "var greeting = \"hello\"\n",
    "greeting = \"hello world\""
   ]
  },
  {
   "cell_type": "code",
   "execution_count": 11,
   "metadata": {},
   "outputs": [
    {
     "data": {
      "text/plain": [
       "defined \u001b[32mfunction \u001b[36mmax\u001b[0m"
      ]
     },
     "metadata": {},
     "output_type": "display_data"
    }
   ],
   "source": [
    "def max(x: Int, y: Int): Int = {\n",
    "    if (x > y) {\n",
    "        x\n",
    "    } else {\n",
    "        y\n",
    "    }\n",
    "}"
   ]
  },
  {
   "cell_type": "markdown",
   "metadata": {},
   "source": [
    "如果函数只包含一个语句，那么可以写成"
   ]
  },
  {
   "cell_type": "code",
   "execution_count": 12,
   "metadata": {},
   "outputs": [
    {
     "data": {
      "text/plain": [
       "defined \u001b[32mfunction \u001b[36mmax2\u001b[0m"
      ]
     },
     "metadata": {},
     "output_type": "display_data"
    }
   ],
   "source": [
    "def max2(x: Int, y: Int) = if (x > y) x else y"
   ]
  },
  {
   "cell_type": "code",
   "execution_count": 13,
   "metadata": {},
   "outputs": [
    {
     "data": {
      "text/plain": [
       "\u001b[36mres11\u001b[0m: \u001b[32mInt\u001b[0m = \u001b[32m5\u001b[0m"
      ]
     },
     "metadata": {},
     "output_type": "display_data"
    }
   ],
   "source": [
    "max(3,5)"
   ]
  },
  {
   "cell_type": "markdown",
   "metadata": {},
   "source": [
    "print打印在同一行\n",
    "\n",
    "println分行打印"
   ]
  },
  {
   "cell_type": "code",
   "execution_count": 16,
   "metadata": {},
   "outputs": [
    {
     "name": "stdout",
     "output_type": "stream",
     "text": [
      "01"
     ]
    },
    {
     "data": {
      "text/plain": [
       "\u001b[36mi\u001b[0m: \u001b[32mInt\u001b[0m = \u001b[32m2\u001b[0m"
      ]
     },
     "metadata": {},
     "output_type": "display_data"
    }
   ],
   "source": [
    "var i = 0\n",
    "while (i < 2) {\n",
    "    print(i)\n",
    "    i += 1\n",
    "}"
   ]
  },
  {
   "cell_type": "code",
   "execution_count": 17,
   "metadata": {},
   "outputs": [
    {
     "name": "stdout",
     "output_type": "stream",
     "text": [
      "0\n",
      "1\n"
     ]
    },
    {
     "data": {
      "text/plain": [
       "\u001b[36mi\u001b[0m: \u001b[32mInt\u001b[0m = \u001b[32m2\u001b[0m"
      ]
     },
     "metadata": {},
     "output_type": "display_data"
    }
   ],
   "source": [
    "var i = 0\n",
    "while (i < 2) {\n",
    "    println(i)\n",
    "    i += 1\n",
    "}"
   ]
  },
  {
   "cell_type": "markdown",
   "metadata": {},
   "source": [
    "可以用foreach和for做枚举"
   ]
  },
  {
   "cell_type": "code",
   "execution_count": 19,
   "metadata": {},
   "outputs": [
    {
     "name": "stdout",
     "output_type": "stream",
     "text": [
      "h\n",
      "e\n",
      "l\n",
      "l\n",
      "o\n"
     ]
    },
    {
     "data": {
      "text/plain": []
     },
     "metadata": {},
     "output_type": "display_data"
    }
   ],
   "source": [
    "\"hello\".foreach(println)"
   ]
  },
  {
   "cell_type": "markdown",
   "metadata": {},
   "source": [
    "### Chapter 3: Scala入门初探"
   ]
  },
  {
   "cell_type": "markdown",
   "metadata": {},
   "source": [
    "Scala里用new实例化对象，或者叫类实例"
   ]
  },
  {
   "cell_type": "code",
   "execution_count": 20,
   "metadata": {},
   "outputs": [
    {
     "data": {
      "text/plain": [
       "\u001b[36mbig\u001b[0m: \u001b[32mjava\u001b[0m.\u001b[32mmath\u001b[0m.\u001b[32mBigInteger\u001b[0m = 12345"
      ]
     },
     "metadata": {},
     "output_type": "display_data"
    }
   ],
   "source": [
    "// 创建值参数为\"12345\"的java.math.BigInteger实例\n",
    "val big = new java.math.BigInteger(\"12345\")"
   ]
  },
  {
   "cell_type": "markdown",
   "metadata": {},
   "source": [
    "使用类型参数化实例可以通过把一个或更多类型指定到基础类型后的方括号里实现"
   ]
  },
  {
   "cell_type": "code",
   "execution_count": 24,
   "metadata": {},
   "outputs": [
    {
     "name": "stdout",
     "output_type": "stream",
     "text": [
      "123"
     ]
    },
    {
     "data": {
      "text/plain": [
       "\u001b[36mgreetStrings\u001b[0m: \u001b[32mArray\u001b[0m[\u001b[32mString\u001b[0m] = \u001b[33mArray\u001b[0m(\u001b[32m\"1\"\u001b[0m, \u001b[32m\"2\"\u001b[0m, \u001b[32m\"3\"\u001b[0m)"
      ]
     },
     "metadata": {},
     "output_type": "display_data"
    }
   ],
   "source": [
    "val greetStrings = new Array[String](3)\n",
    "// 上列代码是如下代码的简化，基于类型推断\n",
    "// val greetStrings: Array[String] = new Array[String](3)\n",
    "\n",
    "greetStrings(0) = \"1\"\n",
    "// greetStrings.update(0, \"1\")同上\n",
    "// 编译器将使用对象的update方法对括号里的索引和等号右边的对象执行调用\n",
    "greetStrings(1) = \"2\"\n",
    "greetStrings(2) = \"3\"\n",
    "\n",
    "for (i <- 0 to 2){\n",
    "    print(greetStrings(i))\n",
    "}"
   ]
  },
  {
   "cell_type": "markdown",
   "metadata": {},
   "source": [
    "看看如果数组越界，会有什么报错"
   ]
  },
  {
   "cell_type": "code",
   "execution_count": 23,
   "metadata": {},
   "outputs": [
    {
     "name": "stdout",
     "output_type": "stream",
     "text": [
      "123"
     ]
    },
    {
     "ename": "",
     "evalue": "",
     "output_type": "error",
     "traceback": [
      "java.lang.ArrayIndexOutOfBoundsException: 3",
      "\tcmd20$$user$$anonfun$4$$anonfun$apply$mcV$sp$1.apply$mcVI$sp(Main.scala:120)",
      "\tscala.collection.immutable.Range.foreach$mVc$sp(Range.scala:166)",
      "\tcmd20$$user$$anonfun$4.apply$mcV$sp(Main.scala:119)"
     ]
    }
   ],
   "source": [
    "val greetStrings = new Array[String](3)\n",
    "\n",
    "greetStrings(0) = \"1\"\n",
    "greetStrings(1) = \"2\"\n",
    "greetStrings(2) = \"3\"\n",
    "\n",
    "for (i <- 0 to 3){\n",
    "    print(greetStrings(i))\n",
    "}"
   ]
  },
  {
   "cell_type": "markdown",
   "metadata": {},
   "source": [
    "Scala有更简洁的创造和初始化数组的方法"
   ]
  },
  {
   "cell_type": "code",
   "execution_count": 25,
   "metadata": {},
   "outputs": [
    {
     "data": {
      "text/plain": [
       "\u001b[36mnumNames\u001b[0m: \u001b[32mArray\u001b[0m[\u001b[32mString\u001b[0m] = \u001b[33mArray\u001b[0m(\u001b[32m\"1\"\u001b[0m, \u001b[32m\"2\"\u001b[0m, \u001b[32m\"3\"\u001b[0m)"
      ]
     },
     "metadata": {},
     "output_type": "display_data"
    }
   ],
   "source": [
    "val numNames = Array(\"1\", \"2\", \"3\")\n",
    "// val numNames = Array.apply(\"1\", \"2\", \"3\")"
   ]
  },
  {
   "cell_type": "markdown",
   "metadata": {},
   "source": [
    "Scala的scala.List一旦创建不可更改"
   ]
  },
  {
   "cell_type": "code",
   "execution_count": 26,
   "metadata": {},
   "outputs": [
    {
     "data": {
      "text/plain": [
       "\u001b[36moneTwoThree\u001b[0m: \u001b[32mList\u001b[0m[\u001b[32mInt\u001b[0m] = \u001b[33mList\u001b[0m(\u001b[32m1\u001b[0m, \u001b[32m2\u001b[0m, \u001b[32m3\u001b[0m)"
      ]
     },
     "metadata": {},
     "output_type": "display_data"
    }
   ],
   "source": [
    "val oneTwoThree = List(1, 2, 3)"
   ]
  },
  {
   "cell_type": "markdown",
   "metadata": {},
   "source": [
    "Scala列表类中定义了\":::\"方法实现叠加功能"
   ]
  },
  {
   "cell_type": "code",
   "execution_count": 27,
   "metadata": {},
   "outputs": [
    {
     "data": {
      "text/plain": [
       "\u001b[36moneTwo\u001b[0m: \u001b[32mList\u001b[0m[\u001b[32mInt\u001b[0m] = \u001b[33mList\u001b[0m(\u001b[32m1\u001b[0m, \u001b[32m2\u001b[0m)\n",
       "\u001b[36mTwoOne\u001b[0m: \u001b[32mList\u001b[0m[\u001b[32mInt\u001b[0m] = \u001b[33mList\u001b[0m(\u001b[32m2\u001b[0m, \u001b[32m1\u001b[0m)\n",
       "\u001b[36mdouble\u001b[0m: \u001b[32mList\u001b[0m[\u001b[32mInt\u001b[0m] = \u001b[33mList\u001b[0m(\u001b[32m1\u001b[0m, \u001b[32m2\u001b[0m, \u001b[32m2\u001b[0m, \u001b[32m1\u001b[0m)"
      ]
     },
     "metadata": {},
     "output_type": "display_data"
    }
   ],
   "source": [
    "val oneTwo = List(1, 2)\n",
    "val TwoOne = List(2, 1)\n",
    "val double = oneTwo ::: TwoOne"
   ]
  },
  {
   "cell_type": "markdown",
   "metadata": {},
   "source": [
    "\"::\"这个操作读作cons，它把新元素组合到现有列表的最前端，Nil是空列表的简写"
   ]
  },
  {
   "cell_type": "code",
   "execution_count": 28,
   "metadata": {},
   "outputs": [
    {
     "data": {
      "text/plain": [
       "\u001b[36mOneTwo1\u001b[0m: \u001b[32mList\u001b[0m[\u001b[32mInt\u001b[0m] = \u001b[33mList\u001b[0m(\u001b[32m1\u001b[0m, \u001b[32m2\u001b[0m)"
      ]
     },
     "metadata": {},
     "output_type": "display_data"
    }
   ],
   "source": [
    "val OneTwo1 = 1 :: 2 :: Nil"
   ]
  },
  {
   "cell_type": "markdown",
   "metadata": {},
   "source": [
    "一些常用方法"
   ]
  },
  {
   "cell_type": "code",
   "execution_count": 29,
   "metadata": {},
   "outputs": [
    {
     "data": {
      "text/plain": [
       "\u001b[36mthrill\u001b[0m: \u001b[32mList\u001b[0m[\u001b[32mString\u001b[0m] = \u001b[33mList\u001b[0m(\u001b[32m\"Will\"\u001b[0m, \u001b[32m\"fill\"\u001b[0m, \u001b[32m\"until\"\u001b[0m)"
      ]
     },
     "metadata": {},
     "output_type": "display_data"
    }
   ],
   "source": [
    "val thrill = \"Will\" :: \"fill\" :: \"until\" :: Nil"
   ]
  },
  {
   "cell_type": "code",
   "execution_count": 30,
   "metadata": {},
   "outputs": [
    {
     "data": {
      "text/plain": [
       "\u001b[36mres27\u001b[0m: \u001b[32mInt\u001b[0m = \u001b[32m2\u001b[0m"
      ]
     },
     "metadata": {},
     "output_type": "display_data"
    }
   ],
   "source": [
    "// 计算长度为4的String元素个数\n",
    "thrill.count(s => s.length == 4)"
   ]
  },
  {
   "cell_type": "code",
   "execution_count": 31,
   "metadata": {},
   "outputs": [
    {
     "data": {
      "text/plain": [
       "\u001b[36mres28\u001b[0m: \u001b[32mList\u001b[0m[\u001b[32mString\u001b[0m] = \u001b[33mList\u001b[0m(\u001b[32m\"until\"\u001b[0m)"
      ]
     },
     "metadata": {},
     "output_type": "display_data"
    }
   ],
   "source": [
    "// 去掉前2个元素\n",
    "thrill.drop(2)"
   ]
  },
  {
   "cell_type": "code",
   "execution_count": 32,
   "metadata": {},
   "outputs": [
    {
     "data": {
      "text/plain": [
       "\u001b[36mres29\u001b[0m: \u001b[32mList\u001b[0m[\u001b[32mString\u001b[0m] = \u001b[33mList\u001b[0m(\u001b[32m\"Will\"\u001b[0m)"
      ]
     },
     "metadata": {},
     "output_type": "display_data"
    }
   ],
   "source": [
    "// 去掉后2个元素\n",
    "thrill.dropRight(2)"
   ]
  },
  {
   "cell_type": "code",
   "execution_count": 33,
   "metadata": {},
   "outputs": [
    {
     "data": {
      "text/plain": [
       "\u001b[36mres30\u001b[0m: \u001b[32mBoolean\u001b[0m = true"
      ]
     },
     "metadata": {},
     "output_type": "display_data"
    }
   ],
   "source": [
    "// 判断是否有值为until的元素在thrill中\n",
    "thrill.exists(s => s == \"until\")"
   ]
  },
  {
   "cell_type": "code",
   "execution_count": 35,
   "metadata": {},
   "outputs": [
    {
     "data": {
      "text/plain": [
       "\u001b[36mres31\u001b[0m: \u001b[32mList\u001b[0m[\u001b[32mString\u001b[0m] = \u001b[33mList\u001b[0m(\u001b[32m\"Will\"\u001b[0m, \u001b[32m\"fill\"\u001b[0m)"
      ]
     },
     "metadata": {},
     "output_type": "display_data"
    }
   ],
   "source": [
    "// 长度为4的元素依次组成的新列表\n",
    "thrill.filter(s => s.length == 4)"
   ]
  },
  {
   "cell_type": "code",
   "execution_count": 37,
   "metadata": {},
   "outputs": [
    {
     "data": {
      "text/plain": [
       "\u001b[36mres33\u001b[0m: \u001b[32mBoolean\u001b[0m = true"
      ]
     },
     "metadata": {},
     "output_type": "display_data"
    }
   ],
   "source": [
    "// 是否所有元素都以l结尾\n",
    "thrill.forall(s => s.endsWith(\"l\"))"
   ]
  },
  {
   "cell_type": "code",
   "execution_count": 38,
   "metadata": {},
   "outputs": [
    {
     "data": {
      "text/plain": [
       "\u001b[36mres34\u001b[0m: \u001b[32mString\u001b[0m = \u001b[32m\"Will\"\u001b[0m"
      ]
     },
     "metadata": {},
     "output_type": "display_data"
    }
   ],
   "source": [
    "// 返回第一个元素\n",
    "thrill.head"
   ]
  },
  {
   "cell_type": "code",
   "execution_count": 39,
   "metadata": {},
   "outputs": [
    {
     "data": {
      "text/plain": [
       "\u001b[36mres35\u001b[0m: \u001b[32mList\u001b[0m[\u001b[32mString\u001b[0m] = \u001b[33mList\u001b[0m(\u001b[32m\"Will\"\u001b[0m, \u001b[32m\"fill\"\u001b[0m)"
      ]
     },
     "metadata": {},
     "output_type": "display_data"
    }
   ],
   "source": [
    "// 除了最后一个元素外，其他元素组成的列表\n",
    "thrill.init"
   ]
  },
  {
   "cell_type": "code",
   "execution_count": 40,
   "metadata": {},
   "outputs": [
    {
     "data": {
      "text/plain": [
       "\u001b[36mres36\u001b[0m: \u001b[32mBoolean\u001b[0m = false"
      ]
     },
     "metadata": {},
     "output_type": "display_data"
    }
   ],
   "source": [
    "// 列表是否为空\n",
    "thrill.isEmpty"
   ]
  },
  {
   "cell_type": "code",
   "execution_count": 41,
   "metadata": {},
   "outputs": [
    {
     "data": {
      "text/plain": [
       "\u001b[36mres37\u001b[0m: \u001b[32mString\u001b[0m = \u001b[32m\"until\"\u001b[0m"
      ]
     },
     "metadata": {},
     "output_type": "display_data"
    }
   ],
   "source": [
    "// 返回最后一个元素\n",
    "thrill.last"
   ]
  },
  {
   "cell_type": "code",
   "execution_count": 42,
   "metadata": {},
   "outputs": [
    {
     "data": {
      "text/plain": [
       "\u001b[36mres38\u001b[0m: \u001b[32mInt\u001b[0m = \u001b[32m3\u001b[0m"
      ]
     },
     "metadata": {},
     "output_type": "display_data"
    }
   ],
   "source": [
    "// 列表元素数量\n",
    "thrill.length"
   ]
  },
  {
   "cell_type": "code",
   "execution_count": 43,
   "metadata": {},
   "outputs": [
    {
     "data": {
      "text/plain": [
       "\u001b[36mres39\u001b[0m: \u001b[32mList\u001b[0m[\u001b[32mString\u001b[0m] = \u001b[33mList\u001b[0m(\u001b[32m\"Willy\"\u001b[0m, \u001b[32m\"filly\"\u001b[0m, \u001b[32m\"untily\"\u001b[0m)"
      ]
     },
     "metadata": {},
     "output_type": "display_data"
    }
   ],
   "source": [
    "// 每个元素都加y\n",
    "thrill.map(s => s + \"y\")"
   ]
  },
  {
   "cell_type": "code",
   "execution_count": 44,
   "metadata": {},
   "outputs": [
    {
     "data": {
      "text/plain": [
       "\u001b[36mres40\u001b[0m: \u001b[32mString\u001b[0m = \u001b[32m\"Will, fill, until\"\u001b[0m"
      ]
     },
     "metadata": {},
     "output_type": "display_data"
    }
   ],
   "source": [
    "// 返回用列表组成的字符串\n",
    "thrill.mkString(\", \")"
   ]
  },
  {
   "cell_type": "code",
   "execution_count": 49,
   "metadata": {},
   "outputs": [
    {
     "data": {
      "text/plain": [
       "\u001b[36mres42\u001b[0m: \u001b[32mList\u001b[0m[\u001b[32mString\u001b[0m] = \u001b[33mList\u001b[0m(\u001b[32m\"until\"\u001b[0m, \u001b[32m\"fill\"\u001b[0m, \u001b[32m\"Will\"\u001b[0m)"
      ]
     },
     "metadata": {},
     "output_type": "display_data"
    }
   ],
   "source": [
    "// 列表逆向\n",
    "thrill.reverse"
   ]
  },
  {
   "cell_type": "code",
   "execution_count": 52,
   "metadata": {},
   "outputs": [
    {
     "data": {
      "text/plain": [
       "\u001b[36mres44\u001b[0m: \u001b[32mList\u001b[0m[\u001b[32mString\u001b[0m] = \u001b[33mList\u001b[0m(\u001b[32m\"fill\"\u001b[0m, \u001b[32m\"until\"\u001b[0m)"
      ]
     },
     "metadata": {},
     "output_type": "display_data"
    }
   ],
   "source": [
    "// 除第一个元素外所有元素组成的新列表\n",
    "thrill.tail"
   ]
  },
  {
   "cell_type": "markdown",
   "metadata": {},
   "source": [
    "元组也是很有用的容器对象，它是不可变的，而且可以包含不同类型的元素"
   ]
  },
  {
   "cell_type": "code",
   "execution_count": 53,
   "metadata": {},
   "outputs": [
    {
     "name": "stdout",
     "output_type": "stream",
     "text": [
      "99\n",
      "hello\n"
     ]
    },
    {
     "data": {
      "text/plain": [
       "\u001b[36mpair\u001b[0m: (\u001b[32mInt\u001b[0m, \u001b[32mString\u001b[0m) = \u001b[33m\u001b[0m(\u001b[32m99\u001b[0m, \u001b[32m\"hello\"\u001b[0m)"
      ]
     },
     "metadata": {},
     "output_type": "display_data"
    }
   ],
   "source": [
    "val pair = (99, \"hello\")\n",
    "println(pair._1)\n",
    "println(pair._2)"
   ]
  },
  {
   "cell_type": "markdown",
   "metadata": {},
   "source": [
    "set和map"
   ]
  },
  {
   "cell_type": "code",
   "execution_count": 54,
   "metadata": {},
   "outputs": [
    {
     "name": "stdout",
     "output_type": "stream",
     "text": [
      "Find big X on ground\r\n"
     ]
    },
    {
     "data": {
      "text/plain": [
       "\u001b[32mimport \u001b[36mscala.collection.mutable.Map\u001b[0m\n",
       "\u001b[36mtreasureMap\u001b[0m: \u001b[32mcollection\u001b[0m.\u001b[32mmutable\u001b[0m.\u001b[32mMap\u001b[0m[\u001b[32mInt\u001b[0m, \u001b[32mString\u001b[0m] = \u001b[33mMap\u001b[0m(\n",
       "  \u001b[32m2\u001b[0m -> \u001b[32m\"Find big X on ground\"\u001b[0m,\n",
       "  \u001b[32m1\u001b[0m -> \u001b[32m\"Go to island\"\u001b[0m,\n",
       "  \u001b[32m3\u001b[0m -> \u001b[32m\"Did.\"\u001b[0m\n",
       ")\n",
       "\u001b[36mres46_2\u001b[0m: \u001b[32mcollection\u001b[0m.\u001b[32mmutable\u001b[0m.\u001b[32mMap\u001b[0m[\u001b[32mInt\u001b[0m, \u001b[32mString\u001b[0m] = \u001b[33mMap\u001b[0m(\n",
       "  \u001b[32m2\u001b[0m -> \u001b[32m\"Find big X on ground\"\u001b[0m,\n",
       "  \u001b[32m1\u001b[0m -> \u001b[32m\"Go to island\"\u001b[0m,\n",
       "  \u001b[32m3\u001b[0m -> \u001b[32m\"Did.\"\u001b[0m\n",
       ")\n",
       "\u001b[36mres46_3\u001b[0m: \u001b[32mcollection\u001b[0m.\u001b[32mmutable\u001b[0m.\u001b[32mMap\u001b[0m[\u001b[32mInt\u001b[0m, \u001b[32mString\u001b[0m] = \u001b[33mMap\u001b[0m(\n",
       "  \u001b[32m2\u001b[0m -> \u001b[32m\"Find big X on ground\"\u001b[0m,\n",
       "  \u001b[32m1\u001b[0m -> \u001b[32m\"Go to island\"\u001b[0m,\n",
       "  \u001b[32m3\u001b[0m -> \u001b[32m\"Did.\"\u001b[0m\n",
       ")\n",
       "\u001b[36mres46_4\u001b[0m: \u001b[32mcollection\u001b[0m.\u001b[32mmutable\u001b[0m.\u001b[32mMap\u001b[0m[\u001b[32mInt\u001b[0m, \u001b[32mString\u001b[0m] = \u001b[33mMap\u001b[0m(\n",
       "  \u001b[32m2\u001b[0m -> \u001b[32m\"Find big X on ground\"\u001b[0m,\n",
       "  \u001b[32m1\u001b[0m -> \u001b[32m\"Go to island\"\u001b[0m,\n",
       "  \u001b[32m3\u001b[0m -> \u001b[32m\"Did.\"\u001b[0m\n",
       ")"
      ]
     },
     "metadata": {},
     "output_type": "display_data"
    }
   ],
   "source": [
    "// 引用可变的Map可变\n",
    "import scala.collection.mutable.Map\n",
    "\n",
    "val treasureMap = Map[Int, String]()\n",
    "treasureMap += (1 -> \"Go to island\")\n",
    "treasureMap += (2 -> \"Find big X on ground\")\n",
    "treasureMap += (3 -> \"Did.\")\n",
    "println(treasureMap(2))"
   ]
  },
  {
   "cell_type": "markdown",
   "metadata": {},
   "source": [
    "从文件中读取文本行"
   ]
  },
  {
   "cell_type": "code",
   "execution_count": 55,
   "metadata": {},
   "outputs": [
    {
     "data": {
      "text/plain": [
       "\u001b[32mimport \u001b[36mscala.io.Source\u001b[0m\n",
       "\u001b[36mlines\u001b[0m: \u001b[32mList\u001b[0m[\u001b[32mString\u001b[0m] = \u001b[33mList\u001b[0m(\u001b[32m\"test1\"\u001b[0m, \u001b[32m\"test2\"\u001b[0m, \u001b[32m\"test3\"\u001b[0m, \u001b[32m\"test1\"\u001b[0m)"
      ]
     },
     "metadata": {},
     "output_type": "display_data"
    }
   ],
   "source": [
    "import scala.io.Source\n",
    "\n",
    "val lines = Source.fromFile(\"D:\\\\work\\\\doc\\\\test.txt\").getLines.toList"
   ]
  }
 ],
 "metadata": {
  "kernelspec": {
   "display_name": "Scala 2.11",
   "language": "scala211",
   "name": "scala211"
  },
  "language_info": {
   "codemirror_mode": "text/x-scala",
   "file_extension": ".scala",
   "mimetype": "text/x-scala",
   "name": "scala211",
   "pygments_lexer": "scala",
   "version": "2.11.6"
  }
 },
 "nbformat": 4,
 "nbformat_minor": 2
}
